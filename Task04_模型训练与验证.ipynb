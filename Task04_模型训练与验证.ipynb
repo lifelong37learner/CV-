{
 "cells": [
  {
   "cell_type": "raw",
   "metadata": {},
   "source": [
    "1、构造验证集；\n",
    "2、模型训练和验证；\n",
    "3、模型保存与加载；\n",
    "4、模型调参；"
   ]
  },
  {
   "cell_type": "code",
   "execution_count": null,
   "metadata": {},
   "outputs": [],
   "source": [
    "train_loader = torch.utils.data.DataLoader(\n",
    "    train_dataset,\n",
    "    batch_size=10,\n",
    "    shuffle=True,\n",
    "    num_workers=10,\n",
    ")\n",
    "val_loader = torch.utils.data.DataLoader(\n",
    "    val_dataset,\n",
    "    batch_size=10,\n",
    "    shuffle=False,\n",
    "    num_workers=10,\n",
    ")\n",
    "model = SVHN_Model1()\n",
    "criterion = nn.CrossEntropyLoss (size_average=False)\n",
    "optimizer = torch.optim.Adam(model.parameters(), 0.001)\n",
    "best_loss = 1000.0\n",
    "for epoch in range(20):\n",
    "    print('Epoch: ', epoch)\n",
    "    train(train_loader, model, criterion, optimizer, epoch)\n",
    "    val_loss = validate(val_loader, model, criterion)\n",
    "\n",
    "    # 记录下验证集精度\n",
    "    if val_loss < best_loss:\n",
    "        best_loss = val_loss\n",
    "        torch.save(model.state_dict(), './model.pt')\n"
   ]
  },
  {
   "cell_type": "code",
   "execution_count": null,
   "metadata": {},
   "outputs": [],
   "source": [
    "# 其中，每个epoch的训练代码如下：\n",
    "def train(train_loader, model, criterion, optimizer, epoch):\n",
    "# 切换模型为训练模式\n",
    "    model.train()\n",
    "    for i, (input, target) in enumerate(train_loader):\n",
    "        c0, c1, c2, c3, c4, c5 = model(data[0])\n",
    "        loss = criterion(c0, data[1][:, 0]) + \\\n",
    "                criterion(c1, data[1][:, 1]) + \\\n",
    "                criterion(c2, data[1][:, 2]) + \\\n",
    "                criterion(c3, data[1][:, 3]) + \\\n",
    "                criterion(c4, data[1][:, 4]) + \\\n",
    "                criterion(c5, data[1][:, 5])\n",
    "        loss /= 6\n",
    "        optimizer.zero_grad()\n",
    "        loss.backward()\n",
    "        optimizer.step()"
   ]
  },
  {
   "cell_type": "code",
   "execution_count": null,
   "metadata": {},
   "outputs": [],
   "source": [
    "# 其中，每个epoch的验证代码如下\n",
    "def validate(val_loader, model, criterion):\n",
    "# 切换模型为预测模型\n",
    "    model.eval()\n",
    "    val_loss = []\n",
    "# 不记录模型梯度信息\n",
    "    with torch.no_grad():\n",
    "        for i, (input, target) in enumerate(val_loader):\n",
    "            c0, c1, c2, c3, c4, c5 = model(data[0])\n",
    "            loss = criterion(c0, data[1][:, 0]) + \\\n",
    "                    criterion(c1, data[1][:, 1]) + \\\n",
    "                    criterion(c2, data[1][:, 2]) + \\\n",
    "                    criterion(c3, data[1][:, 3]) + \\\n",
    "                    criterion(c4, data[1][:, 4]) + \\\n",
    "                    criterion(c5, data[1][:, 5])\n",
    "            loss /= 6\n",
    "            val_loss.append(loss.item())\n",
    "    return np.mean(val_loss)"
   ]
  },
  {
   "cell_type": "code",
   "execution_count": null,
   "metadata": {},
   "outputs": [],
   "source": [
    "# 模型保存与加载\n",
    "torch.save(model_object.state_dict(), 'model.pt')\n",
    "model.load_state_dict(torch.load(' model.pt'))"
   ]
  },
  {
   "cell_type": "code",
   "execution_count": null,
   "metadata": {},
   "outputs": [],
   "source": []
  }
 ],
 "metadata": {
  "kernelspec": {
   "display_name": "Python 3",
   "language": "python",
   "name": "python3"
  },
  "language_info": {
   "codemirror_mode": {
    "name": "ipython",
    "version": 3
   },
   "file_extension": ".py",
   "mimetype": "text/x-python",
   "name": "python",
   "nbconvert_exporter": "python",
   "pygments_lexer": "ipython3",
   "version": "3.7.3"
  }
 },
 "nbformat": 4,
 "nbformat_minor": 2
}
