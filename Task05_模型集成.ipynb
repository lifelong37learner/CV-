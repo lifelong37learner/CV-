{
 "cells": [
  {
   "cell_type": "markdown",
   "metadata": {},
   "source": [
    "# 5 模型集成\n",
    "本章讲解的知识点包括：集成学习方法、深度学习中的集成学习和结果后处理思路。\n",
    "\n",
    "5.1 学习目标\n",
    "\n",
    "学习集成学习方法以及交叉验证情况下的模型集成\n",
    "学会使用深度学习模型的集成学习\n",
    "\n",
    "\n",
    "5.2 集成学习方法\n",
    "\n",
    "在机器学习中的集成学习可以在一定程度上提高预测精度，常见的集成学习方法有Stacking、Bagging和Boosting，同时这些集成学习方法与具体验证集划分联系紧密。\n",
    "\n",
    "由于深度学习模型一般需要较长的训练周期，如果硬件设备不允许建议选取留出法，如果需要追求精度可以使用交叉验证的方法。\n",
    "\n",
    "下面假设构建了10折交叉验证，训练得到10个CNN模型。\n",
    "\n",
    "\n",
    "那么在10个CNN模型可以使用如下方式进行集成：\n",
    "\n",
    "对预测的结果的概率值进行平均，然后解码为具体字符；\n",
    "对预测的字符进行投票，得到最终字符。\n",
    "\n",
    "\n",
    "5.3 深度学习中的集成学习\n",
    "\n",
    "此外在深度学习中本身还有一些集成学习思路的做法，值得借鉴学习：\n",
    "\n",
    "5.3.1 Dropout\n",
    "\n",
    "Dropout可以作为训练深度神经网络的一种技巧。在每个训练批次中，通过随机让一部分的节点停止工作。同时在预测的过程中让所有的节点都其作用。\n",
    "\n",
    "\n",
    "Dropout经常出现在在先有的CNN网络中，可以有效的缓解模型过拟合的情况，也可以在预测时增加模型的精度。\n",
    "\n",
    "加入Dropout后的网络结构如下："
   ]
  },
  {
   "cell_type": "code",
   "execution_count": null,
   "metadata": {},
   "outputs": [],
   "source": [
    "# 定义模型\n",
    "class SVHN_Model1(nn.Module):\n",
    "    def __init__(self):\n",
    "        super(SVHN_Model1, self).__init__()\n",
    "        # CNN提取特征模块\n",
    "        self.cnn = nn.Sequential(\n",
    "            nn.Conv2d(3, 16, kernel_size=(3, 3), stride=(2, 2)),\n",
    "            nn.ReLU(),\n",
    "            nn.Dropout(0.25),\n",
    "            nn.MaxPool2d(2),\n",
    "            nn.Conv2d(16, 32, kernel_size=(3, 3), stride=(2, 2)),\n",
    "            nn.ReLU(), \n",
    "            nn.Dropout(0.25),\n",
    "            nn.MaxPool2d(2),\n",
    "        )\n",
    "        # \n",
    "        self.fc1 = nn.Linear(32*3*7, 11)\n",
    "        self.fc2 = nn.Linear(32*3*7, 11)\n",
    "        self.fc3 = nn.Linear(32*3*7, 11)\n",
    "        self.fc4 = nn.Linear(32*3*7, 11)\n",
    "        self.fc5 = nn.Linear(32*3*7, 11)\n",
    "        self.fc6 = nn.Linear(32*3*7, 11)\n",
    "    \n",
    "    def forward(self, img):        \n",
    "        feat = self.cnn(img)\n",
    "        feat = feat.view(feat.shape[0], -1)\n",
    "        c1 = self.fc1(feat)\n",
    "        c2 = self.fc2(feat)\n",
    "        c3 = self.fc3(feat)\n",
    "        c4 = self.fc4(feat)\n",
    "        c5 = self.fc5(feat)\n",
    "        c6 = self.fc6(feat)\n",
    "        return c1, c2, c3, c4, c5, c6\n",
    "\n",
    "\n"
   ]
  },
  {
   "cell_type": "raw",
   "metadata": {},
   "source": [
    "5.3.2 TTA\n",
    "\n",
    "测试集数据扩增（Test Time Augmentation，简称TTA）也是常用的集成学习技巧，数据扩增不仅可以在训练时候用，\n",
    "而且可以同样在预测时候进行数据扩增，对同一个样本预测三次，然后对三次结果进行平均。"
   ]
  },
  {
   "cell_type": "code",
   "execution_count": null,
   "metadata": {},
   "outputs": [],
   "source": [
    "def predict(test_loader, model, tta=10):\n",
    "   model.eval()\n",
    "   test_pred_tta = None\n",
    "   # TTA 次数\n",
    "   for _ in range(tta):\n",
    "       test_pred = []\n",
    "   \n",
    "       with torch.no_grad():\n",
    "           for i, (input, target) in enumerate(test_loader):\n",
    "               c0, c1, c2, c3, c4, c5 = model(data[0])\n",
    "               output = np.concatenate([c0.data.numpy(), c1.data.numpy(),\n",
    "                  c2.data.numpy(), c3.data.numpy(),\n",
    "                  c4.data.numpy(), c5.data.numpy()], axis=1)\n",
    "               test_pred.append(output)\n",
    "       \n",
    "       test_pred = np.vstack(test_pred)\n",
    "        if test_pred_tta is None:\n",
    "           test_pred_tta = test_pred\n",
    "        else:\n",
    "           test_pred_tta += test_pred\n",
    "   \n",
    "   return test_pred_tta"
   ]
  },
  {
   "cell_type": "code",
   "execution_count": null,
   "metadata": {},
   "outputs": [],
   "source": []
  }
 ],
 "metadata": {
  "kernelspec": {
   "display_name": "Python 3",
   "language": "python",
   "name": "python3"
  },
  "language_info": {
   "codemirror_mode": {
    "name": "ipython",
    "version": 3
   },
   "file_extension": ".py",
   "mimetype": "text/x-python",
   "name": "python",
   "nbconvert_exporter": "python",
   "pygments_lexer": "ipython3",
   "version": "3.7.3"
  }
 },
 "nbformat": 4,
 "nbformat_minor": 2
}
