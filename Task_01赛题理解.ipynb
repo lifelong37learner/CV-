{
 "cells": [
  {
   "cell_type": "markdown",
   "metadata": {},
   "source": [
    "Task01：赛题理解（2天）\n",
    "一、学习目标\n",
    "\n",
    "1、理解赛题背景和赛题数据\n",
    "\n",
    "2、完成赛题报名和数据下载，理解赛题的解题思路\n",
    "\n",
    "3、了解赛题\n",
    "\n",
    "赛题数据\n",
    "数据标签\n",
    "评测指标\n",
    "数据读取\n",
    "解题思路"
   ]
  },
  {
   "cell_type": "markdown",
   "metadata": {},
   "source": [
    "## 1、理解赛题背景和赛题数据 "
   ]
  },
  {
   "cell_type": "code",
   "execution_count": null,
   "metadata": {},
   "outputs": [],
   "source": [
    "# 理解赛题背景"
   ]
  },
  {
   "cell_type": "raw",
   "metadata": {},
   "source": [
    "本次新人赛是Datawhale与天池联合发起的零基础入门系列赛事第二场 —— 零基础入门CV赛事之街景字符识别。\n",
    "\n",
    "赛题以计算机视觉中字符识别为背景，要求选手预测真实场景下的字符识别，这是一个典型的字符识别问题。通过这道赛题可以引导大家走入计算机视觉的世界，主要针对竞赛选手上手视觉赛题，提高对数据建模能力。\n",
    "\n",
    "为了更好的引导大家入门，我们同时为本赛题定制了系列学习方案，其中包括数据科学库、通用流程和baseline方案学习三部分。通过对本方案的完整学习，可以帮助掌握数据竞赛基本技能。同时我们也将提供专属的视频直播学习通道。"
   ]
  },
  {
   "cell_type": "code",
   "execution_count": null,
   "metadata": {},
   "outputs": [],
   "source": [
    "# 理解赛题数据"
   ]
  },
  {
   "cell_type": "raw",
   "metadata": {},
   "source": [
    "一、赛提数据\n",
    "需要注意的是本赛题需要选手识别图片中所有的字符，为了降低比赛难度，我们提供了训练集、验证集和测试集中字符的位置框。\n",
    "\n",
    "赛题来源自Google街景图像中的门牌号数据集（The Street View House Numbers Dataset, SVHN），并根据一定方式采样得到比赛数据集。\n",
    "\n",
    "数据集报名后可见并可下载，该数据来自真实场景的门牌号。训练集数据包括3W张照片，验证集数据包括1W张照片，每张照片包括颜色图像和对应的编码类别和具体位置；为了保证比赛的公平性，测试集A包括4W张照片，测试集B包括4W张照片。\n",
    "\n",
    "需要注意的是本赛题需要选手识别图片中所有的字符，为了降低比赛难度，我们提供了训练集、验证集和测试集中字符的位置框。\n",
    "\n",
    "所有的数据（训练集、验证集和测试集）的标注使用JSON格式，并使用文件名进行索引。如果一个文件中包括多个字符，则使用列表将字段进行组合。\n",
    "\n"
   ]
  },
  {
   "cell_type": "raw",
   "metadata": {},
   "source": [
    "二、评测标准\n",
    "\n",
    "评价标准为准确率，选手提交结果与实际图片的编码进行对比，以编码整体识别准确率为评价指标，结果越大越好，具体计算公式如下：score= 编码识别正确的数量/测试集图片数量"
   ]
  },
  {
   "cell_type": "raw",
   "metadata": {},
   "source": [
    "三、结果提交\n",
    "提交前请确保预测结果的格式与sample_submit.csv中的格式一致，以及提交文件后缀名为csv。\n",
    "# file_name, file_code\n",
    "# 0010000.jpg,451\n",
    "# 0010001.jpg,232\n",
    "# 0010002.jpg,45\n",
    "# 0010003.jpg,67\n",
    "# 0010004.jpg,191\n",
    "# 0010005.jpg,892"
   ]
  },
  {
   "cell_type": "markdown",
   "metadata": {},
   "source": [
    "## 2、完成赛题报名和数据下载，理解赛题的解题思路"
   ]
  },
  {
   "cell_type": "code",
   "execution_count": null,
   "metadata": {},
   "outputs": [],
   "source": [
    "# 数据集有6个"
   ]
  },
  {
   "cell_type": "raw",
   "metadata": {},
   "source": [
    "本题本质是分类问题，对图片的字符进行识别。本题的难度在于不定长字符识别。\n",
    "\n",
    "1、简单入门思路：定长字符识别\n",
    "将赛题抽象为一个定长字符问题，简化难度，比如定长为4-6均可，不满6的字符填充数字0或者符号*。\n",
    "\n",
    "2、专业字符识别思路：不定长字符识别\n",
    "比较典型的有CRNN字符识别模型，不过本题的数据比较规整，可以视为一个档次或一个句子。\n",
    "\n",
    "3、专业分类思路：检测再识别\n",
    "此种思路需要构建字符检测模型，对测试集中的字符进行识别，可以参考物体检测模型SSD或者YOLO。\n"
   ]
  }
 ],
 "metadata": {
  "kernelspec": {
   "display_name": "Python 3",
   "language": "python",
   "name": "python3"
  },
  "language_info": {
   "codemirror_mode": {
    "name": "ipython",
    "version": 3
   },
   "file_extension": ".py",
   "mimetype": "text/x-python",
   "name": "python",
   "nbconvert_exporter": "python",
   "pygments_lexer": "ipython3",
   "version": "3.7.3"
  }
 },
 "nbformat": 4,
 "nbformat_minor": 2
}
